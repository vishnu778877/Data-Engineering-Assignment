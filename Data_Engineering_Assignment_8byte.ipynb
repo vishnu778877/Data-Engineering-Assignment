{
  "nbformat": 4,
  "nbformat_minor": 0,
  "metadata": {
    "colab": {
      "provenance": []
    },
    "kernelspec": {
      "name": "python3",
      "display_name": "Python 3"
    },
    "language_info": {
      "name": "python"
    }
  },
  "cells": [
    {
      "cell_type": "code",
      "source": [
        "!pip install requests beautifulsoup4 boto3 feedparser"
      ],
      "metadata": {
        "colab": {
          "base_uri": "https://localhost:8080/"
        },
        "id": "zmyy9OVwExkB",
        "outputId": "fa35dfc5-ab0b-4a23-c93e-6901ab8258ba"
      },
      "execution_count": 1,
      "outputs": [
        {
          "output_type": "stream",
          "name": "stdout",
          "text": [
            "Requirement already satisfied: requests in /usr/local/lib/python3.11/dist-packages (2.32.3)\n",
            "Requirement already satisfied: beautifulsoup4 in /usr/local/lib/python3.11/dist-packages (4.13.4)\n",
            "Requirement already satisfied: boto3 in /usr/local/lib/python3.11/dist-packages (1.26.135)\n",
            "Requirement already satisfied: feedparser in /usr/local/lib/python3.11/dist-packages (6.0.11)\n",
            "Requirement already satisfied: charset-normalizer<4,>=2 in /usr/local/lib/python3.11/dist-packages (from requests) (3.4.1)\n",
            "Requirement already satisfied: idna<4,>=2.5 in /usr/local/lib/python3.11/dist-packages (from requests) (3.10)\n",
            "Requirement already satisfied: urllib3<3,>=1.21.1 in /usr/local/lib/python3.11/dist-packages (from requests) (1.26.20)\n",
            "Requirement already satisfied: certifi>=2017.4.17 in /usr/local/lib/python3.11/dist-packages (from requests) (2025.1.31)\n",
            "Requirement already satisfied: soupsieve>1.2 in /usr/local/lib/python3.11/dist-packages (from beautifulsoup4) (2.7)\n",
            "Requirement already satisfied: typing-extensions>=4.0.0 in /usr/local/lib/python3.11/dist-packages (from beautifulsoup4) (4.13.2)\n",
            "Requirement already satisfied: botocore<1.30.0,>=1.29.135 in /usr/local/lib/python3.11/dist-packages (from boto3) (1.29.135)\n",
            "Requirement already satisfied: jmespath<2.0.0,>=0.7.1 in /usr/local/lib/python3.11/dist-packages (from boto3) (1.0.1)\n",
            "Requirement already satisfied: s3transfer<0.7.0,>=0.6.0 in /usr/local/lib/python3.11/dist-packages (from boto3) (0.6.2)\n",
            "Requirement already satisfied: sgmllib3k in /usr/local/lib/python3.11/dist-packages (from feedparser) (1.0.0)\n",
            "Requirement already satisfied: python-dateutil<3.0.0,>=2.1 in /usr/local/lib/python3.11/dist-packages (from botocore<1.30.0,>=1.29.135->boto3) (2.8.2)\n",
            "Requirement already satisfied: six>=1.5 in /usr/local/lib/python3.11/dist-packages (from python-dateutil<3.0.0,>=2.1->botocore<1.30.0,>=1.29.135->boto3) (1.17.0)\n"
          ]
        }
      ]
    },
    {
      "cell_type": "code",
      "source": [
        "!pip install boto3==1.26.135 botocore==1.29.135"
      ],
      "metadata": {
        "colab": {
          "base_uri": "https://localhost:8080/"
        },
        "id": "LY8BJBzlE2rl",
        "outputId": "427fb7c4-276a-43c7-a959-c64bdb5ff78b"
      },
      "execution_count": 2,
      "outputs": [
        {
          "output_type": "stream",
          "name": "stdout",
          "text": [
            "Requirement already satisfied: boto3==1.26.135 in /usr/local/lib/python3.11/dist-packages (1.26.135)\n",
            "Requirement already satisfied: botocore==1.29.135 in /usr/local/lib/python3.11/dist-packages (1.29.135)\n",
            "Requirement already satisfied: jmespath<2.0.0,>=0.7.1 in /usr/local/lib/python3.11/dist-packages (from boto3==1.26.135) (1.0.1)\n",
            "Requirement already satisfied: s3transfer<0.7.0,>=0.6.0 in /usr/local/lib/python3.11/dist-packages (from boto3==1.26.135) (0.6.2)\n",
            "Requirement already satisfied: python-dateutil<3.0.0,>=2.1 in /usr/local/lib/python3.11/dist-packages (from botocore==1.29.135) (2.8.2)\n",
            "Requirement already satisfied: urllib3<1.27,>=1.25.4 in /usr/local/lib/python3.11/dist-packages (from botocore==1.29.135) (1.26.20)\n",
            "Requirement already satisfied: six>=1.5 in /usr/local/lib/python3.11/dist-packages (from python-dateutil<3.0.0,>=2.1->botocore==1.29.135) (1.17.0)\n"
          ]
        }
      ]
    },
    {
      "cell_type": "code",
      "source": [
        "import boto3\n",
        "from botocore.client import Config\n",
        "\n",
        "ACCESS_KEY = '00539bb0223e8090000000002'\n",
        "SECRET_KEY = 'K005sOMxLEeQgJNBBqbFg6d5aW99x4w'\n",
        "ENDPOINT_URL = 'https://s3.us-east-005.backblazeb2.com'\n",
        "BUCKET_NAME = 'logistics-data'\n",
        "\n",
        "s3 = boto3.client(\n",
        "    service_name='s3',\n",
        "    aws_access_key_id=ACCESS_KEY,\n",
        "    aws_secret_access_key=SECRET_KEY,\n",
        "    endpoint_url=ENDPOINT_URL,\n",
        "    config=Config(signature_version='s3v4')\n",
        ")\n",
        "\n",
        "print(\"✅ Connected to Backblaze B2 with correct boto3 version!\")"
      ],
      "metadata": {
        "colab": {
          "base_uri": "https://localhost:8080/"
        },
        "id": "tzWQTy3GE6ro",
        "outputId": "70ca957f-504d-46c0-dbab-2de73be87bc7"
      },
      "execution_count": 3,
      "outputs": [
        {
          "output_type": "stream",
          "name": "stdout",
          "text": [
            "✅ Connected to Backblaze B2 with correct boto3 version!\n"
          ]
        }
      ]
    },
    {
      "cell_type": "code",
      "source": [
        "import requests\n",
        "from bs4 import BeautifulSoup\n",
        "\n",
        "def crawl_static_site(url):\n",
        "    headers = {'User-Agent': 'Mozilla/5.0'}\n",
        "    response = requests.get(url, headers=headers)\n",
        "    if response.status_code == 200:\n",
        "        soup = BeautifulSoup(response.text, 'html.parser')\n",
        "        return soup.prettify()\n",
        "    else:\n",
        "        print(f\"❌ Failed to crawl {url}, Status code: {response.status_code}\")\n",
        "        return None\n",
        "\n",
        "# Crawl Freightwaves homepage\n",
        "url = \"https://www.freightwaves.com/\"\n",
        "html_content = crawl_static_site(url)\n",
        "\n",
        "if html_content:\n",
        "    print(\"✅ Successfully crawled Freightwaves!\")"
      ],
      "metadata": {
        "colab": {
          "base_uri": "https://localhost:8080/"
        },
        "id": "_Ds42V9HE_oJ",
        "outputId": "63a96b9c-a0e2-4769-dda2-c492cb49e369"
      },
      "execution_count": 4,
      "outputs": [
        {
          "output_type": "stream",
          "name": "stdout",
          "text": [
            "✅ Successfully crawled Freightwaves!\n"
          ]
        }
      ]
    },
    {
      "cell_type": "code",
      "source": [
        "from datetime import datetime\n",
        "\n",
        "def upload_html_to_b2(source, html_content):\n",
        "    today = datetime.utcnow().strftime('%Y-%m-%d')\n",
        "    key = f\"{source}/{today}/page.html\"\n",
        "\n",
        "    s3.put_object(\n",
        "        Bucket=BUCKET_NAME,\n",
        "        Key=key,\n",
        "        Body=html_content,\n",
        "        ContentType='text/html'\n",
        "    )\n",
        "    print(f\"✅ Uploaded HTML to: {key}\")\n",
        "\n",
        "# Upload Freightwaves homepage HTML\n",
        "if html_content:\n",
        "    upload_html_to_b2(\"freightwaves\", html_content)"
      ],
      "metadata": {
        "colab": {
          "base_uri": "https://localhost:8080/"
        },
        "id": "nq_kPFmVGZw1",
        "outputId": "77312979-299e-4fdd-8b1a-aaff95d94835"
      },
      "execution_count": 5,
      "outputs": [
        {
          "output_type": "stream",
          "name": "stdout",
          "text": [
            "✅ Uploaded HTML to: freightwaves/2025-04-26/page.html\n"
          ]
        }
      ]
    },
    {
      "cell_type": "code",
      "source": [
        "import feedparser\n",
        "import json\n",
        "\n",
        "def crawl_rss_and_upload(rss_url, source_name):\n",
        "    feed = feedparser.parse(rss_url)\n",
        "    today = datetime.utcnow().strftime('%Y-%m-%d')\n",
        "\n",
        "    for entry in feed.entries[:5]:  # Save first 5 articles\n",
        "        article = {\n",
        "            \"title\": entry.title,\n",
        "            \"link\": entry.link,\n",
        "            \"published\": entry.published\n",
        "        }\n",
        "\n",
        "        safe_title = entry.title.replace(\" \", \"_\").replace(\"/\", \"_\")  # Clean file name\n",
        "        key = f\"{source_name}/{today}/{safe_title}.json\"\n",
        "\n",
        "        s3.put_object(\n",
        "            Bucket=BUCKET_NAME,\n",
        "            Key=key,\n",
        "            Body=json.dumps(article),\n",
        "            ContentType='application/json'\n",
        "        )\n",
        "        print(f\"✅ Uploaded News Article: {entry.title}\")\n",
        "\n",
        "# Example: Crawl Freightwaves News RSS\n",
        "rss_url = \"https://www.freightwaves.com/feed\"\n",
        "crawl_rss_and_upload(rss_url, \"freightwaves-news\")\n"
      ],
      "metadata": {
        "colab": {
          "base_uri": "https://localhost:8080/"
        },
        "id": "yihlL-1AGde7",
        "outputId": "f9ad31ee-cdb8-4b7c-c50f-ff304653e72a"
      },
      "execution_count": 6,
      "outputs": [
        {
          "output_type": "stream",
          "name": "stdout",
          "text": [
            "✅ Uploaded News Article: Saia’s shares sag 30% as tariffs tank demand, exacerbate growing pains\n",
            "✅ Uploaded News Article: Drewry: Global container volumes to drop 1% on Trump tariffs\n",
            "✅ Uploaded News Article: DHL upgrades next-day Medical Express service for Latin America\n",
            "✅ Uploaded News Article: FMCSA denies truck driver learner’s permits for 17-year-olds\n",
            "✅ Uploaded News Article: S&P Global goes deeper into supply chain with Orbcomm tie-up\n"
          ]
        }
      ]
    }
  ]
}